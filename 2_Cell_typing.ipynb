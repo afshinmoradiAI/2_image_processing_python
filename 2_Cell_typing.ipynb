{
 "cells": [
  {
   "cell_type": "markdown",
   "id": "a9e44e2c",
   "metadata": {},
   "source": [
    "# Spatial Proteomics Analysis with Single-Cell Data\n",
    "\n",
    "This notebook provides a step-by-step guide to analyzing spatial proteomics data using single-cell data. \n",
    "We will explore how to load the data, visualize spatial protein distributions, assign cell types, and rank proteins by spatial regions.\n",
    "\n",
    "## Introduction to Spatial Proteomics\n",
    "\n",
    "Spatial proteomics involves studying the spatial distribution of proteins within tissues at the single-cell level. \n",
    "This type of analysis is crucial for understanding the spatial organization of tissues and the role of different cell types in various biological processes.\n",
    "\n",
    "In this notebook, we will use an AnnData object, which is a common format for storing single-cell data, including spatial proteomics data.\n"
   ]
  },
  {
   "cell_type": "markdown",
   "id": "41b6e271",
   "metadata": {},
   "source": [
    "## Loading Data\n",
    "\n",
    "We begin by loading our spatial proteomics data, which is stored in an AnnData object. \n",
    "AnnData is a format used in single-cell analysis to store large datasets with annotations.\n",
    "\n",
    "The data file is expected to be in `.h5ad` format, which we will load using the `scanpy` library.\n"
   ]
  },
  {
   "cell_type": "code",
   "execution_count": null,
   "id": "4793a84e",
   "metadata": {},
   "outputs": [],
   "source": [
    "import scanpy as sc\n",
    "\n",
    "# Load the AnnData object\n",
    "adata = sc.read_h5ad('anndata_qced_normalized.h5ad')\n",
    "\n",
    "# Display the basic information of the dataset\n",
    "adata\n"
   ]
  },
  {
   "cell_type": "markdown",
   "id": "f31c77f2",
   "metadata": {},
   "source": [
    "## Visualizing Spatial Protein Distributions\n",
    "\n",
    "Once the data is loaded, we can visualize the spatial distribution of proteins across different regions.\n",
    "We will use matrix plots to visualize the expression of various proteins in different clusters.\n"
   ]
  },
  {
   "cell_type": "code",
   "execution_count": null,
   "id": "0058867d",
   "metadata": {},
   "outputs": [],
   "source": [
    "# Visualize spatial distribution using matrix plot\n",
    "sc.pl.matrixplot(adata, var_names=adata.var.index, groupby='pheno_leiden', dendrogram=False,\n",
    "                 use_raw=False, cmap=\"coolwarm\", standard_scale='var',\n",
    "                 swap_axes=True, save='_clusterPlot_leiden_v1.svg')\n"
   ]
  },
  {
   "cell_type": "markdown",
   "id": "4cd59a60",
   "metadata": {},
   "source": [
    "## Cell Type Classification\n",
    "\n",
    "In this section, we assign cell types to the identified clusters based on their protein expression profiles.\n",
    "A dictionary is used to map cluster indices to specific cell types.\n"
   ]
  },
  {
   "cell_type": "code",
   "execution_count": null,
   "id": "9ae99b25",
   "metadata": {},
   "outputs": [],
   "source": [
    "# Map clusters to cell types\n",
    "cell_types = {\n",
    "    0: 'Proliferating Tumour',\n",
    "    1: 'B Cells',\n",
    "    # Add other cell types as needed\n",
    "}\n",
    "\n",
    "# Example: Assign cell types to the clusters\n",
    "adata.obs['cell_type'] = adata.obs['pheno_leiden'].map(cell_types)\n",
    "\n",
    "# Display the updated AnnData object\n",
    "adata\n"
   ]
  },
  {
   "cell_type": "markdown",
   "id": "f9893fc4",
   "metadata": {},
   "source": [
    "## Protein Ranking and Analysis\n",
    "\n",
    "Ranking proteins by their expression levels in different spatial regions can provide insights into the biological processes at play.\n",
    "Here, we will rank the top proteins for each spatial region.\n"
   ]
  },
  {
   "cell_type": "code",
   "execution_count": null,
   "id": "59880fe2",
   "metadata": {},
   "outputs": [],
   "source": [
    "# Rank genes (proteins) for each cluster\n",
    "sc.pl.rank_genes_groups(adata, n_genes=5, sharey=False, fontsize=16, save='_leiden_rankGenes.svg')\n"
   ]
  },
  {
   "cell_type": "markdown",
   "id": "6e7c71e5",
   "metadata": {},
   "source": [
    "## Conclusion\n",
    "\n",
    "This notebook demonstrated how to perform spatial proteomics analysis using single-cell data. \n",
    "We covered data loading, visualization, cell type classification, and protein ranking. \n",
    "These steps provide a foundation for further analysis and exploration of spatial proteomics data.\n"
   ]
  }
 ],
 "metadata": {},
 "nbformat": 4,
 "nbformat_minor": 5
}
